{
 "cells": [
  {
   "cell_type": "markdown",
   "id": "f8514470-7fe0-4d64-85fb-2eae6148623d",
   "metadata": {},
   "source": [
    "## Logistic Regression Assignment"
   ]
  },
  {
   "cell_type": "code",
   "execution_count": null,
   "id": "6374488c-3e54-44fd-aedb-87bfe6e3469d",
   "metadata": {},
   "outputs": [],
   "source": []
  },
  {
   "cell_type": "markdown",
   "id": "1795fdd4-b534-423c-a5ff-9f517fe2a2aa",
   "metadata": {},
   "source": [
    "## Theoretical Questions"
   ]
  },
  {
   "cell_type": "code",
   "execution_count": null,
   "id": "1dbae237-fd82-4139-8476-0870367ad7da",
   "metadata": {},
   "outputs": [],
   "source": []
  },
  {
   "cell_type": "markdown",
   "id": "dfdce3b2-13d9-4f26-b2a3-f7fec299485d",
   "metadata": {},
   "source": [
    "Q1. What is Logistic Regression, and how does it differ from Linear Regression ?"
   ]
  },
  {
   "cell_type": "markdown",
   "id": "720def93-c587-4dc9-be1f-9b37064bf265",
   "metadata": {},
   "source": [
    "Ans. Logistic Regression is a statistical method used for binary classification problems (e.g., spam detection, disease prediction). \n",
    "\n",
    "Instead of predicting continuous values like Linear Regression, Logistic Regression predicts probabilities using the sigmoid (logistic) function."
   ]
  },
  {
   "cell_type": "markdown",
   "id": "4630f612-563e-4d7b-81d8-126d450e08b3",
   "metadata": {},
   "source": [
    "<img src = 'Ans1.png'>"
   ]
  },
  {
   "cell_type": "code",
   "execution_count": null,
   "id": "fc663321-051a-4354-9c6f-940b472c46b8",
   "metadata": {},
   "outputs": [],
   "source": []
  },
  {
   "cell_type": "markdown",
   "id": "207c2123-b14c-4b4a-bb5e-f902fa62f53f",
   "metadata": {},
   "source": [
    "Q2. What is the mathematical equation of Logistic Regression ?"
   ]
  },
  {
   "cell_type": "markdown",
   "id": "ccc948a3-6196-465b-b02b-20eecbc44998",
   "metadata": {},
   "source": [
    "<img src = 'A2.png'>"
   ]
  },
  {
   "cell_type": "code",
   "execution_count": null,
   "id": "0d849fd9-713a-4dfe-8a23-f686a1ce40a0",
   "metadata": {},
   "outputs": [],
   "source": []
  },
  {
   "cell_type": "markdown",
   "id": "e99157dd-1f69-43f8-b82c-7b39f28d6f66",
   "metadata": {},
   "source": [
    "Q3. Why do we use the Sigmoid function in Logistic Regression ?"
   ]
  },
  {
   "cell_type": "markdown",
   "id": "340e41c9-6997-4d7d-ab22-a4cf0db254df",
   "metadata": {},
   "source": [
    "Ans. The Sigmoid function is used in Logistic Regression because:\n",
    "\n",
    "1. Maps output to probability (0 to 1) ✅\n",
    "\n",
    "2. Helps in binary classification (threshold at 0.5) 🔢\n",
    "\n",
    "3. Smooth and differentiable (for gradient descent) 📉\n",
    "\n",
    "4. Models log-odds relationship for better interpretation 📊"
   ]
  },
  {
   "cell_type": "code",
   "execution_count": null,
   "id": "d0e98bd5-2bec-4625-beff-8f1893389331",
   "metadata": {},
   "outputs": [],
   "source": []
  },
  {
   "cell_type": "markdown",
   "id": "93e9ec9e-2966-4989-9533-08d64c43a7f6",
   "metadata": {},
   "source": [
    "Q4. What is the cost function of Logistic Regression ?"
   ]
  },
  {
   "cell_type": "markdown",
   "id": "9149eea3-74d3-4363-9730-75a8ead6bdfb",
   "metadata": {},
   "source": [
    "<img src = 'A3.png'>"
   ]
  },
  {
   "cell_type": "code",
   "execution_count": null,
   "id": "8805c920-41b5-40bd-a0a2-d2c77839ccca",
   "metadata": {},
   "outputs": [],
   "source": []
  },
  {
   "cell_type": "markdown",
   "id": "a24bb33e-4ed9-479f-a95f-f5ea1f715155",
   "metadata": {},
   "source": [
    "Q5. What is Regularization in Logistic Regression? Why is it needed ?"
   ]
  },
  {
   "cell_type": "markdown",
   "id": "eb86f431-9aa7-4b49-aada-f4eec7dff394",
   "metadata": {},
   "source": [
    "Ans. Regularization is a technique used to prevent overfitting by adding a penalty term to the cost function. \n",
    "\n",
    "It helps keep the model simpler by reducing the impact of large coefficients.\n",
    "\n",
    "Why is Regularization Needed?\n",
    "\n",
    "✅ Prevents overfitting (reduces high variance).\n",
    "\n",
    "✅ Improves generalization to new data.\n",
    "\n",
    "✅ Controls complexity by penalizing large weights.\n",
    "\n",
    "Regularization is controlled by λ (lambda), which balances the trade-off between fit and simplicity"
   ]
  },
  {
   "cell_type": "code",
   "execution_count": null,
   "id": "54776af2-09c9-4015-b95d-26034fc9798d",
   "metadata": {},
   "outputs": [],
   "source": []
  },
  {
   "cell_type": "markdown",
   "id": "2d046b48-2d67-481c-a4d5-b3d3569e13d3",
   "metadata": {},
   "source": [
    "Q6. Explain the difference between Lasso, Ridge, and Elastic Net regression."
   ]
  },
  {
   "cell_type": "markdown",
   "id": "f1fbc01d-b06f-45db-a6bf-f786348bd818",
   "metadata": {},
   "source": [
    "<img src = 'A6.png'>"
   ]
  },
  {
   "cell_type": "code",
   "execution_count": null,
   "id": "7dc973cd-5347-4cc9-b92d-5a9480edc85d",
   "metadata": {},
   "outputs": [],
   "source": []
  },
  {
   "cell_type": "markdown",
   "id": "b7183c9b-9ccb-4f01-b66a-ccd46c70b9d2",
   "metadata": {},
   "source": [
    "Q7. When should we use Elastic Net instead of Lasso or Ridge ?"
   ]
  },
  {
   "cell_type": "markdown",
   "id": "824a395d-c3bb-46c0-9c09-4548783617c5",
   "metadata": {},
   "source": [
    "Ans. Elastic Net is particularly useful in situations where Lasso or Ridge alone may not perform well due to the following reasons:\n",
    "\n",
    "1. Highly Correlated Features:\n",
    "\n",
    "Elastic Net is preferred when there are many correlated features. Lasso may select one feature from a group of correlated features, while Elastic Net can handle correlated variables better by including them together.\n",
    "\n",
    "2. Feature Selection with Regularization:\n",
    "\n",
    "If you need a balance between feature selection (like Lasso) and regularization (like Ridge), Elastic Net is a good choice, as it combines both penalties.\n",
    "\n",
    "3. Better Performance When Many Features:\n",
    "\n",
    "When the number of predictors (features) is greater than the number of observations, Lasso may overfit by selecting too few features. Elastic Net helps by performing better regularization, making it more robust in such cases.\n",
    "\n",
    "4. Compromise Between Lasso and Ridge:\n",
    "\n",
    "If you're unsure whether Lasso or Ridge is more appropriate, Elastic Net offers a compromise by blending both penalties and adjusting the balance between them with hyperparameters."
   ]
  },
  {
   "cell_type": "code",
   "execution_count": null,
   "id": "11e39735-e32f-46d2-9fc0-0a5a9d6c92f0",
   "metadata": {},
   "outputs": [],
   "source": []
  },
  {
   "cell_type": "markdown",
   "id": "7fb64040-e5d0-47ad-8f03-e34fe990f623",
   "metadata": {},
   "source": [
    "Q8. What is the impact of the regularization parameter (λ) in Logistic Regression ?"
   ]
  },
  {
   "cell_type": "markdown",
   "id": "79ed7276-ba34-4873-a2e1-c5a43408be1a",
   "metadata": {},
   "source": [
    "Ans. Impact of the Regularization Parameter (λ) in Logistic Regression\n",
    "\n",
    "The regularization parameter (λ) controls the strength of the regularization in Logistic Regression. Its value has a significant impact on model performance:\n",
    "\n",
    "1. When λ is small (close to 0):\n",
    "Minimal Regularization: The model behaves almost like unregularized Logistic Regression.\n",
    "\n",
    "2. Overfitting: The model may overfit the training data, capturing noise and leading to poor generalization on unseen data.\n",
    "Weights can become large, indicating that the model is overly complex.\n",
    "\n",
    "\n",
    "3. When λ is large (close to infinity):\n",
    "\n",
    "A. Strong Regularization: The model will shrink the coefficients significantly.\n",
    "\n",
    "\n",
    "B. Underfitting: The model may become too simple and fail to capture the underlying patterns in the data, leading to high bias and poor performance on both training and test sets.\n",
    "\n",
    "All coefficients tend to move toward zero, and the model might ignore important features.\n",
    "\n",
    "\n",
    "4. Finding an Optimal λ:\n",
    "The best value for λ is typically found using cross-validation, which balances bias and variance.\n",
    "Smaller λ allows the model to fit the data better, while larger λ simplifies the model and prevents overfitting."
   ]
  },
  {
   "cell_type": "code",
   "execution_count": null,
   "id": "d49136e7-7cff-4e7e-85a7-07bec83ee513",
   "metadata": {},
   "outputs": [],
   "source": []
  },
  {
   "cell_type": "markdown",
   "id": "39bab41b-9d9e-4ff9-8117-2f0065791501",
   "metadata": {},
   "source": [
    "Q9. What are the key assumptions of Logistic Regression ?"
   ]
  },
  {
   "cell_type": "markdown",
   "id": "41cf109f-5791-4c3e-857e-5090c3148ca6",
   "metadata": {},
   "source": [
    "Ans. The key assumptions of Logistic Regression are:\n",
    "\n",
    "1. Linear relationship between predictors and log-odds.\n",
    "\n",
    "2. Independence of observations.\n",
    "\n",
    "3. No multicollinearity among predictors.\n",
    "\n",
    "4. Large sample size for reliable estimates.\n",
    "\n",
    "5. The target variable is binary or multinomial.\n",
    "\n",
    "6. No extreme outliers."
   ]
  },
  {
   "cell_type": "code",
   "execution_count": null,
   "id": "bfd8fa79-88e9-47c6-9f5d-7209f1401d28",
   "metadata": {},
   "outputs": [],
   "source": []
  },
  {
   "cell_type": "markdown",
   "id": "39278fb9-b8b3-48a1-b245-7d9e1d92b0ba",
   "metadata": {},
   "source": [
    "Q10. What are some alternatives to Logistic Regression for classification tasks ?"
   ]
  },
  {
   "cell_type": "markdown",
   "id": "463df1fd-2e5b-45f8-921f-6745160e551d",
   "metadata": {},
   "source": [
    "Ans. Alternatives to Logistic Regression for Classification Tasks\n",
    "\n",
    "1. Decision Trees:\n",
    "\n",
    "A non-linear model that splits the data based on feature values to make classifications.\n",
    "Easy to interpret but can easily overfit if not pruned.\n",
    "\n",
    "2. Random Forest:\n",
    "\n",
    "An ensemble method based on Decision Trees, where multiple trees are trained on random subsets of the data.\n",
    "Reduces overfitting and improves generalization.\n",
    "\n",
    "3. Support Vector Machine (SVM):\n",
    "\n",
    "Finds the optimal hyperplane that maximizes the margin between classes.\n",
    "Works well for both linear and non-linear data using kernel functions.\n",
    "\n",
    "4. k-Nearest Neighbors (k-NN):\n",
    "\n",
    "A non-parametric method where the class of a data point is determined by the majority class of its k nearest neighbors.\n",
    "Simple and effective but computationally expensive for large datasets.\n",
    "\n",
    "5. Naive Bayes:\n",
    "\n",
    "A probabilistic classifier based on Bayes' theorem, assuming independence between features.\n",
    "Works well with high-dimensional data but assumes feature independence, which may not always hold.\n",
    "\n",
    "\n",
    "6. Gradient Boosting Machines (GBM):\n",
    "\n",
    "An ensemble technique where weak models (usually Decision Trees) are added sequentially to correct errors of previous models.\n",
    "Powerful but can be prone to overfitting without proper tuning.\n",
    "\n",
    "7. Neural Networks (Deep Learning):\n",
    "\n",
    "Suitable for complex, non-linear relationships in data.\n",
    "Requires a large amount of data and computational power but is highly flexible."
   ]
  },
  {
   "cell_type": "code",
   "execution_count": null,
   "id": "57669e1f-b338-4da5-9818-4faf393e2ac1",
   "metadata": {},
   "outputs": [],
   "source": []
  },
  {
   "cell_type": "markdown",
   "id": "26244231-7f57-4950-8743-df4f3b6d565f",
   "metadata": {},
   "source": [
    "Q11. What are Classification Evaluation Metrics ? "
   ]
  },
  {
   "cell_type": "markdown",
   "id": "b13e911e-3787-4ce1-a30c-78b99823c997",
   "metadata": {},
   "source": [
    "Ans. Classification Evaluation Metrics (Summary):\n",
    "\n",
    "1. Accuracy: Proportion of correct predictions.\n",
    "\n",
    "2. Precision: Correct positive predictions (minimizing false positives).\n",
    "\n",
    "3. Recall: Correct actual positives (minimizing false negatives).\n",
    "\n",
    "4. F1-Score: Balance between precision and recall.\n",
    "\n",
    "5. Confusion Matrix: Breakdown of actual vs. predicted classifications (TP, TN, FP, FN).\n",
    "\n",
    "6. ROC Curve: Plots the trade-off between True Positive Rate and False Positive Rate.\n",
    "\n",
    "7. AUC-ROC: Area under the ROC curve; higher AUC means better performance.\n",
    "\n",
    "8. Log Loss: Measures prediction confidence, penalizes wrong predictions more."
   ]
  },
  {
   "cell_type": "code",
   "execution_count": null,
   "id": "f9c18f6f-008a-4dfc-ad15-d7736a8b00ef",
   "metadata": {},
   "outputs": [],
   "source": []
  },
  {
   "cell_type": "markdown",
   "id": "d81cdada-2df6-4bd2-b0b5-288f1a5db3ef",
   "metadata": {},
   "source": [
    "Q12. How does class imbalance affect Logistic Regression ?"
   ]
  },
  {
   "cell_type": "markdown",
   "id": "9994ea2f-315a-4234-9bf5-c2c43eeaad52",
   "metadata": {},
   "source": [
    "Ans. Effect of Class Imbalance on Logistic Regression\n",
    "Class imbalance occurs when one class is significantly more frequent than the other(s), leading to several issues in Logistic Regression:\n",
    "\n",
    "1. Biased Model Predictions:\n",
    "\n",
    "The model leans toward the majority class, predicting it more often.\n",
    "This results in high accuracy but poor performance on the minority class.\n",
    "\n",
    "2. Misleading Accuracy:\n",
    "\n",
    "If 95% of the data belongs to Class A and 5% to Class B, predicting only Class A gives 95% accuracy, but the model completely fails to detect Class B.\n",
    "\n",
    "3. Poor Precision & Recall for Minority Class:\n",
    "\n",
    "The model may have low recall for the minority class, failing to identify important cases.\n",
    "Precision may also drop if the model is uncertain about its minority class predictions."
   ]
  },
  {
   "cell_type": "code",
   "execution_count": null,
   "id": "0cd8f002-c45e-43b4-9f5a-1143096d0900",
   "metadata": {},
   "outputs": [],
   "source": []
  },
  {
   "cell_type": "markdown",
   "id": "7eebb5f2-29bc-4131-9127-23cb37f99334",
   "metadata": {},
   "source": [
    "Q13. What is Hyperparameter Tuning in Logistic Regression ?"
   ]
  },
  {
   "cell_type": "markdown",
   "id": "3ddefe48-c545-4baf-a070-e467c72766ac",
   "metadata": {},
   "source": [
    "Ans. Hyperparameter Tuning in Logistic Regression:\n",
    "\n",
    "Hyperparameter tuning is the process of optimizing the model's hyperparameters to improve performance. \n",
    "\n",
    "Unlike model parameters (like weights), hyperparameters are set before training and affect how the model learns.\n",
    "\n",
    "\n",
    "Summary:\n",
    "\n",
    "Hyperparameter tuning in Logistic Regression involves adjusting C, penalty type, and solver to optimize performance. Techniques like Grid Search, Random Search, and Bayesian Optimization help find the best settings.\n"
   ]
  },
  {
   "cell_type": "code",
   "execution_count": null,
   "id": "1d062898-eaf1-4870-9009-6f392c737af4",
   "metadata": {},
   "outputs": [],
   "source": []
  },
  {
   "cell_type": "markdown",
   "id": "297c2576-f481-4462-bb93-9c4087ec05eb",
   "metadata": {},
   "source": [
    "Q14. What are different solvers in Logistic Regression? Which one should be used ?"
   ]
  },
  {
   "cell_type": "markdown",
   "id": "b2cff772-2910-4654-b6a2-3c1699773477",
   "metadata": {},
   "source": [
    "<img src = 'A7.png'>"
   ]
  },
  {
   "cell_type": "code",
   "execution_count": null,
   "id": "d216fa25-76f7-4a97-9b48-e9e32530589e",
   "metadata": {},
   "outputs": [],
   "source": []
  },
  {
   "cell_type": "markdown",
   "id": "fe43489b-f0be-4629-a657-40ad4d41dba6",
   "metadata": {},
   "source": [
    "Q15. How is Logistic Regression extended for multiclass classification ?"
   ]
  },
  {
   "cell_type": "markdown",
   "id": "ef191bc1-be63-4c4f-aa13-cc598198ef1f",
   "metadata": {},
   "source": [
    "Ans. Multiclass Logistic Regression Extensions:\n",
    "\n",
    "1. One-vs-Rest (OvR): Trains one model per class, treating it as positive and the rest as negative. Simple and effective.\n",
    "\n",
    "2. One-vs-One (OvO): Trains models for every pair of classes. Works well for small datasets but is computationally expensive.\n",
    "\n",
    "3. Softmax Regression: Uses the Softmax function to assign probabilities across all classes. Best for large datasets.\n",
    "\n",
    "4. Default choice: OvR in sklearn, but Softmax is preferred for efficiency in large-scale problems."
   ]
  },
  {
   "cell_type": "code",
   "execution_count": null,
   "id": "a912a39d-3dc8-4308-b85d-150840b08efa",
   "metadata": {},
   "outputs": [],
   "source": []
  },
  {
   "cell_type": "markdown",
   "id": "b0a17ba9-f5d0-410c-abe2-b2bcaaf0477b",
   "metadata": {},
   "source": [
    "Q16. What are the advantages and disadvantages of Logistic Regression ?"
   ]
  },
  {
   "cell_type": "markdown",
   "id": "13f20d30-10e7-4444-b94f-abeb910a0bc6",
   "metadata": {},
   "source": [
    "<img src = 'A8.png'>"
   ]
  },
  {
   "cell_type": "code",
   "execution_count": null,
   "id": "4c918762-9722-4241-b5d6-620601727fd3",
   "metadata": {},
   "outputs": [],
   "source": []
  },
  {
   "cell_type": "markdown",
   "id": "e4d865c3-2215-43a7-ae9c-ff2798f29e6d",
   "metadata": {},
   "source": [
    "Q17. What are some use cases of Logistic Regression ?"
   ]
  },
  {
   "cell_type": "markdown",
   "id": "d898d38c-b84e-4e12-84b0-26bb7f229109",
   "metadata": {},
   "source": [
    "Ans. Use Cases of Logistic Regression\n",
    "Logistic Regression is widely used in various domains for binary and multiclass classification tasks. Some key applications include:\n",
    "\n",
    "1. Medical Diagnosis 🏥\n",
    "\n",
    "Predicting diseases (e.g., diabetes, heart disease, cancer risk).\n",
    "Classifying tumors as benign or malignant.\n",
    "\n",
    "2. Fraud Detection 🔍\n",
    "\n",
    "Identifying fraudulent transactions in banking and e-commerce.\n",
    "Detecting spam emails and phishing attacks.\n",
    "\n",
    "3. Credit Scoring & Loan Approval 💳\n",
    "\n",
    "Assessing a customer’s creditworthiness (loan default prediction).\n",
    "Determining risk levels for granting loans.\n",
    "\n",
    "4. Marketing & Customer Retention 📊\n",
    "\n",
    "Predicting customer churn (whether a customer will leave a service).\n",
    "Identifying potential buyers based on behavior.\n",
    "\n",
    "5. Sentiment Analysis 💬\n",
    "\n",
    "Classifying customer reviews as positive or negative.\n",
    "Analyzing social media sentiments.\n",
    "\n",
    "6. Human Resources (HR Analytics) 👥\n",
    "\n",
    "Predicting employee attrition (who is likely to leave the company).\n",
    "Resume screening for job applicant filtering."
   ]
  },
  {
   "cell_type": "code",
   "execution_count": null,
   "id": "5d7df84f-9fae-4f1b-ba9e-eeb5520c29a7",
   "metadata": {},
   "outputs": [],
   "source": []
  },
  {
   "cell_type": "markdown",
   "id": "103202db-e6a5-4278-92fc-7dafb32f18f6",
   "metadata": {},
   "source": [
    "Q18. What is the difference between Softmax Regression and Logistic Regression ?"
   ]
  },
  {
   "cell_type": "markdown",
   "id": "a429f72e-898b-4154-9c40-d628667d91fe",
   "metadata": {},
   "source": [
    "<img src = 'A9.png'>"
   ]
  },
  {
   "cell_type": "code",
   "execution_count": null,
   "id": "747c21ae-142b-4b45-9122-e61a7521fcc6",
   "metadata": {},
   "outputs": [],
   "source": []
  },
  {
   "cell_type": "markdown",
   "id": "6810e3e1-ac63-4e6f-9d28-df5d3ef6856e",
   "metadata": {},
   "source": [
    "Q19. How do we choose between One-vs-Rest (OvR) and Softmax for multiclass classification ?"
   ]
  },
  {
   "cell_type": "markdown",
   "id": "f16cc087-d160-4d74-bba4-ed832318a6c3",
   "metadata": {},
   "source": [
    "<img src = 'A10.png'>"
   ]
  },
  {
   "cell_type": "code",
   "execution_count": null,
   "id": "b8ae5532-40c9-4761-8d8e-f2408230f405",
   "metadata": {},
   "outputs": [],
   "source": []
  },
  {
   "cell_type": "markdown",
   "id": "50cfc445-24b4-427a-a90d-fa742ee25e13",
   "metadata": {},
   "source": [
    "Q20. How do we interpret coefficients in Logistic Regression ?"
   ]
  },
  {
   "cell_type": "markdown",
   "id": "b4b73acf-ba6f-4dc2-b165-1d04a72ef776",
   "metadata": {},
   "source": [
    "Ans. In Logistic Regression, coefficients represent the effect of each feature on the log-odds of the target. Exponentiating the coefficients gives odds ratios:\n",
    "\n",
    "1. Odds ratio > 1: Feature increases the odds of the positive class.\n",
    "\n",
    "2. Odds ratio < 1: Feature decreases the odds of the positive class.\n",
    "\n",
    "3. Odds ratio = 1: Feature has no effect.\n",
    "\n",
    "For example, if the coefficient of a feature is 0.8, its odds ratio is e^0.8 ≈ 2.23, meaning the feature increases the odds of the positive outcome by about 2.23 times. "
   ]
  },
  {
   "cell_type": "code",
   "execution_count": null,
   "id": "b92b1f47-f6d8-47ff-903d-c32e4be57292",
   "metadata": {},
   "outputs": [],
   "source": []
  },
  {
   "cell_type": "markdown",
   "id": "a207baaf-15f8-4d84-8c56-9af82690370f",
   "metadata": {},
   "source": [
    "## Practical Questions"
   ]
  },
  {
   "cell_type": "code",
   "execution_count": null,
   "id": "a510a72f-6496-49d3-8596-f5940adedc45",
   "metadata": {},
   "outputs": [],
   "source": []
  },
  {
   "cell_type": "markdown",
   "id": "c18ce1b5-0f8b-4c04-a96c-15ed90406597",
   "metadata": {},
   "source": [
    "Q1. Write a Python program that loads a dataset, splits it into training and testing sets, applies Logistic \n",
    "Regression, and prints the model accuracy."
   ]
  },
  {
   "cell_type": "code",
   "execution_count": 1,
   "id": "af267f45-593b-4d8e-98e4-40070d2d8d67",
   "metadata": {},
   "outputs": [
    {
     "name": "stdout",
     "output_type": "stream",
     "text": [
      "Model Accuracy: 100.00%\n"
     ]
    }
   ],
   "source": [
    "# Import necessary libraries\n",
    "import pandas as pd\n",
    "from sklearn.model_selection import train_test_split\n",
    "from sklearn.linear_model import LogisticRegression\n",
    "from sklearn.metrics import accuracy_score\n",
    "from sklearn.datasets import load_iris  # Example dataset\n",
    "\n",
    "# Load the dataset (Iris dataset in this case)\n",
    "data = load_iris()\n",
    "X = data.data  # Features\n",
    "y = data.target  # Target variable\n",
    "\n",
    "# Split the dataset into training and testing sets (80% train, 20% test)\n",
    "X_train, X_test, y_train, y_test = train_test_split(X, y, test_size=0.2, random_state=42)\n",
    "\n",
    "# Initialize the Logistic Regression model\n",
    "model = LogisticRegression(max_iter=200)\n",
    "\n",
    "# Train the model on the training data\n",
    "model.fit(X_train, y_train)\n",
    "\n",
    "# Predict the target for the test set\n",
    "y_pred = model.predict(X_test)\n",
    "\n",
    "# Calculate accuracy of the model\n",
    "accuracy = accuracy_score(y_test, y_pred)\n",
    "\n",
    "# Print the accuracy\n",
    "print(f'Model Accuracy: {accuracy * 100:.2f}%')\n"
   ]
  },
  {
   "cell_type": "code",
   "execution_count": null,
   "id": "4ea74fe9-6c31-4d7a-a5af-deb4609b7420",
   "metadata": {},
   "outputs": [],
   "source": []
  },
  {
   "cell_type": "markdown",
   "id": "f7e30a10-0a8e-45c5-9152-17df0a2f7968",
   "metadata": {},
   "source": [
    "Q2. Write a Python program to apply L1 regularization (Lasso) on a dataset using LogisticRegression(penalty='l1') \n",
    "and print the model accuracy."
   ]
  },
  {
   "cell_type": "code",
   "execution_count": 2,
   "id": "054316f6-579b-47e2-bc1b-1073f205bc5f",
   "metadata": {},
   "outputs": [
    {
     "name": "stdout",
     "output_type": "stream",
     "text": [
      "Model Accuracy with L1 Regularization (Lasso): 100.00%\n"
     ]
    }
   ],
   "source": [
    "# Import necessary libraries\n",
    "import pandas as pd\n",
    "from sklearn.model_selection import train_test_split\n",
    "from sklearn.linear_model import LogisticRegression\n",
    "from sklearn.metrics import accuracy_score\n",
    "from sklearn.datasets import load_iris\n",
    "\n",
    "# Load the dataset (Iris dataset as an example)\n",
    "data = load_iris()\n",
    "X = data.data  # Features\n",
    "y = data.target  # Target variable\n",
    "\n",
    "# Split the dataset into training and testing sets (80% train, 20% test)\n",
    "X_train, X_test, y_train, y_test = train_test_split(X, y, test_size=0.2, random_state=42)\n",
    "\n",
    "# Initialize Logistic Regression with L1 regularization (Lasso)\n",
    "model = LogisticRegression(penalty='l1', solver='liblinear', max_iter=200)\n",
    "\n",
    "# Train the model on the training data\n",
    "model.fit(X_train, y_train)\n",
    "\n",
    "# Predict the target for the test set\n",
    "y_pred = model.predict(X_test)\n",
    "\n",
    "# Calculate accuracy of the model\n",
    "accuracy = accuracy_score(y_test, y_pred)\n",
    "\n",
    "# Print the accuracy\n",
    "print(f'Model Accuracy with L1 Regularization (Lasso): {accuracy * 100:.2f}%')\n"
   ]
  },
  {
   "cell_type": "code",
   "execution_count": null,
   "id": "9836e612-3d2e-4b2b-82a9-5246181dfb15",
   "metadata": {},
   "outputs": [],
   "source": []
  },
  {
   "cell_type": "markdown",
   "id": "25a306ca-51d6-49ea-9113-6919210e517f",
   "metadata": {},
   "source": [
    "Q3. Write a Python program to train Logistic Regression with L2 regularization (Ridge) using \n",
    "LogisticRegression(penalty='l2'). Print model accuracy and coefficients."
   ]
  },
  {
   "cell_type": "code",
   "execution_count": 3,
   "id": "d99e4517-02c8-4133-8297-1783c745153f",
   "metadata": {},
   "outputs": [
    {
     "name": "stdout",
     "output_type": "stream",
     "text": [
      "Model Accuracy with L2 Regularization (Ridge): 100.00%\n",
      "Model Coefficients (Feature Weights):\n",
      "[[-0.39381403  0.96220565 -2.37519275 -0.99872731]\n",
      " [ 0.50855928 -0.25478766 -0.21286168 -0.77578274]\n",
      " [-0.11474525 -0.70741799  2.58805443  1.77451005]]\n"
     ]
    }
   ],
   "source": [
    "# Import necessary libraries\n",
    "import pandas as pd\n",
    "from sklearn.model_selection import train_test_split\n",
    "from sklearn.linear_model import LogisticRegression\n",
    "from sklearn.metrics import accuracy_score\n",
    "from sklearn.datasets import load_iris\n",
    "\n",
    "# Load the dataset (Iris dataset as an example)\n",
    "data = load_iris()\n",
    "X = data.data  # Features\n",
    "y = data.target  # Target variable\n",
    "\n",
    "# Split the dataset into training and testing sets (80% train, 20% test)\n",
    "X_train, X_test, y_train, y_test = train_test_split(X, y, test_size=0.2, random_state=42)\n",
    "\n",
    "# Initialize Logistic Regression with L2 regularization (Ridge)\n",
    "model = LogisticRegression(penalty='l2', solver='lbfgs', max_iter=200)\n",
    "\n",
    "# Train the model on the training data\n",
    "model.fit(X_train, y_train)\n",
    "\n",
    "# Predict the target for the test set\n",
    "y_pred = model.predict(X_test)\n",
    "\n",
    "# Calculate accuracy of the model\n",
    "accuracy = accuracy_score(y_test, y_pred)\n",
    "\n",
    "# Print the accuracy\n",
    "print(f'Model Accuracy with L2 Regularization (Ridge): {accuracy * 100:.2f}%')\n",
    "\n",
    "# Print the model coefficients\n",
    "print(\"Model Coefficients (Feature Weights):\")\n",
    "print(model.coef_)\n"
   ]
  },
  {
   "cell_type": "code",
   "execution_count": null,
   "id": "c46bd0a7-6aaf-4518-972a-1a490909620d",
   "metadata": {},
   "outputs": [],
   "source": []
  },
  {
   "cell_type": "markdown",
   "id": "48502312-0ebc-479f-89e7-7254d70e99c4",
   "metadata": {},
   "source": [
    "Q4. Write a Python program to train Logistic Regression with Elastic Net Regularization (penalty='elasticnet')."
   ]
  },
  {
   "cell_type": "code",
   "execution_count": 5,
   "id": "69360d94-417f-484c-a788-f4ca4987074e",
   "metadata": {},
   "outputs": [
    {
     "name": "stdout",
     "output_type": "stream",
     "text": [
      "Model Accuracy with Elastic Net Regularization: 100.00%\n",
      "Model Coefficients (Feature Weights):\n",
      "[[ 0.3906062   1.77216327 -2.42255377 -0.70833088]\n",
      " [ 0.07470852  0.          0.         -0.58038542]\n",
      " [-1.25790502 -1.52701739  2.59532837  2.08092643]]\n"
     ]
    }
   ],
   "source": [
    "# Import necessary libraries\n",
    "import pandas as pd\n",
    "import warnings\n",
    "warnings.filterwarnings(\"ignore\")\n",
    "from sklearn.model_selection import train_test_split\n",
    "from sklearn.linear_model import LogisticRegression\n",
    "from sklearn.metrics import accuracy_score\n",
    "from sklearn.datasets import load_iris\n",
    "\n",
    "# Load the dataset (Iris dataset as an example)\n",
    "data = load_iris()\n",
    "X = data.data  # Features\n",
    "y = data.target  # Target variable\n",
    "\n",
    "# Split the dataset into training and testing sets (80% train, 20% test)\n",
    "X_train, X_test, y_train, y_test = train_test_split(X, y, test_size=0.2, random_state=42)\n",
    "\n",
    "# Initialize Logistic Regression with Elastic Net Regularization\n",
    "model = LogisticRegression(penalty='elasticnet', solver='saga', l1_ratio=0.5, max_iter=200)\n",
    "\n",
    "# Train the model on the training data\n",
    "model.fit(X_train, y_train)\n",
    "\n",
    "# Predict the target for the test set\n",
    "y_pred = model.predict(X_test)\n",
    "\n",
    "# Calculate accuracy of the model\n",
    "accuracy = accuracy_score(y_test, y_pred)\n",
    "\n",
    "# Print the accuracy\n",
    "print(f'Model Accuracy with Elastic Net Regularization: {accuracy * 100:.2f}%')\n",
    "\n",
    "# Print the model coefficients\n",
    "print(\"Model Coefficients (Feature Weights):\")\n",
    "print(model.coef_)\n"
   ]
  },
  {
   "cell_type": "code",
   "execution_count": null,
   "id": "b4d6210b-836c-454b-85d8-909f6c54e240",
   "metadata": {},
   "outputs": [],
   "source": []
  },
  {
   "cell_type": "markdown",
   "id": "19a9b79b-7b9e-467e-a3ea-f5271d992ee9",
   "metadata": {},
   "source": [
    "Q5. Write a Python program to train a Logistic Regression model for multiclass classification using \n",
    "multi_class='ovr'."
   ]
  },
  {
   "cell_type": "code",
   "execution_count": 6,
   "id": "2c4a7a4d-1dfa-4a35-9a68-dda0da2c7225",
   "metadata": {},
   "outputs": [
    {
     "name": "stdout",
     "output_type": "stream",
     "text": [
      "Model Accuracy with One-vs-Rest (OvR): 100.00%\n",
      "Model Coefficients (Feature Weights):\n",
      "[[ 0.3711229   1.409712   -2.15210117 -0.95474179]\n",
      " [ 0.49400451 -1.58897112  0.43717015 -1.11187838]\n",
      " [-1.55895271 -1.58893375  2.39874554  2.15556209]]\n"
     ]
    }
   ],
   "source": [
    "# Import necessary libraries\n",
    "import pandas as pd\n",
    "from sklearn.model_selection import train_test_split\n",
    "from sklearn.linear_model import LogisticRegression\n",
    "from sklearn.metrics import accuracy_score\n",
    "from sklearn.datasets import load_iris\n",
    "\n",
    "# Load the dataset (Iris dataset as an example)\n",
    "data = load_iris()\n",
    "X = data.data  # Features\n",
    "y = data.target  # Target variable (Multiclass: 0, 1, 2)\n",
    "\n",
    "# Split the dataset into training and testing sets (80% train, 20% test)\n",
    "X_train, X_test, y_train, y_test = train_test_split(X, y, test_size=0.2, random_state=42)\n",
    "\n",
    "# Initialize Logistic Regression with One-vs-Rest (OvR) strategy\n",
    "model = LogisticRegression(multi_class='ovr', solver='liblinear', max_iter=200)\n",
    "\n",
    "# Train the model on the training data\n",
    "model.fit(X_train, y_train)\n",
    "\n",
    "# Predict the target for the test set\n",
    "y_pred = model.predict(X_test)\n",
    "\n",
    "# Calculate accuracy of the model\n",
    "accuracy = accuracy_score(y_test, y_pred)\n",
    "\n",
    "# Print the accuracy\n",
    "print(f'Model Accuracy with One-vs-Rest (OvR): {accuracy * 100:.2f}%')\n",
    "\n",
    "# Print the model coefficients\n",
    "print(\"Model Coefficients (Feature Weights):\")\n",
    "print(model.coef_)\n"
   ]
  },
  {
   "cell_type": "code",
   "execution_count": null,
   "id": "9d1cfda2-4c68-47c5-a2c7-179a9573a9ab",
   "metadata": {},
   "outputs": [],
   "source": []
  },
  {
   "cell_type": "markdown",
   "id": "d270fdfb-c1f0-40b3-b9fa-e08733aeae53",
   "metadata": {},
   "source": [
    "Q6. Write a Python program to apply GridSearchCV to tune the hyperparameters (C and penalty) of Logistic \n",
    "Regression. Print the best parameters and accuracy"
   ]
  },
  {
   "cell_type": "code",
   "execution_count": 7,
   "id": "db12b419-bf22-4d99-84d5-cb1266c38d0d",
   "metadata": {},
   "outputs": [
    {
     "name": "stdout",
     "output_type": "stream",
     "text": [
      "Best Parameters: {'C': 1, 'penalty': 'l1'}\n",
      "Best Model Accuracy: 100.00%\n"
     ]
    }
   ],
   "source": [
    "# Import necessary libraries\n",
    "import pandas as pd\n",
    "from sklearn.model_selection import train_test_split, GridSearchCV\n",
    "from sklearn.linear_model import LogisticRegression\n",
    "from sklearn.metrics import accuracy_score\n",
    "from sklearn.datasets import load_iris\n",
    "\n",
    "# Load the dataset (Iris dataset as an example)\n",
    "data = load_iris()\n",
    "X = data.data  # Features\n",
    "y = data.target  # Target variable\n",
    "\n",
    "# Split the dataset into training and testing sets (80% train, 20% test)\n",
    "X_train, X_test, y_train, y_test = train_test_split(X, y, test_size=0.2, random_state=42)\n",
    "\n",
    "# Define the parameter grid for hyperparameter tuning\n",
    "param_grid = {\n",
    "    'C': [0.01, 0.1, 1, 10, 100],  # Regularization strength\n",
    "    'penalty': ['l1', 'l2']  # Type of regularization\n",
    "}\n",
    "\n",
    "# Initialize Logistic Regression model (use saga solver for L1 and L2 support)\n",
    "model = LogisticRegression(solver='saga', max_iter=500)\n",
    "\n",
    "# Apply GridSearchCV to find the best hyperparameters\n",
    "grid_search = GridSearchCV(model, param_grid, cv=5, scoring='accuracy', n_jobs=-1)\n",
    "grid_search.fit(X_train, y_train)\n",
    "\n",
    "# Get the best parameters and best model\n",
    "best_params = grid_search.best_params_\n",
    "best_model = grid_search.best_estimator_\n",
    "\n",
    "# Predict using the best model\n",
    "y_pred = best_model.predict(X_test)\n",
    "\n",
    "# Calculate accuracy\n",
    "accuracy = accuracy_score(y_test, y_pred)\n",
    "\n",
    "# Print the results\n",
    "print(f'Best Parameters: {best_params}')\n",
    "print(f'Best Model Accuracy: {accuracy * 100:.2f}%')\n"
   ]
  },
  {
   "cell_type": "code",
   "execution_count": null,
   "id": "e2ffd5f1-786b-462f-9538-a2750c8b21c2",
   "metadata": {},
   "outputs": [],
   "source": []
  },
  {
   "cell_type": "markdown",
   "id": "ddd3333f-25d9-41f2-978b-8a49f52d1c2f",
   "metadata": {},
   "source": [
    "Q7. Write a Python program to evaluate Logistic Regression using Stratified K-Fold Cross-Validation. Print the \n",
    "average accuracy."
   ]
  },
  {
   "cell_type": "code",
   "execution_count": 8,
   "id": "d96c41c9-78f8-431a-99c4-27db2454b043",
   "metadata": {},
   "outputs": [
    {
     "name": "stdout",
     "output_type": "stream",
     "text": [
      "Accuracy for each fold: [1.         0.96666667 0.93333333 1.         0.93333333]\n",
      "Average Accuracy: 96.67%\n"
     ]
    }
   ],
   "source": [
    "# Import necessary libraries\n",
    "import numpy as np\n",
    "from sklearn.model_selection import StratifiedKFold, cross_val_score\n",
    "from sklearn.linear_model import LogisticRegression\n",
    "from sklearn.datasets import load_iris\n",
    "\n",
    "# Load the dataset (Iris dataset as an example)\n",
    "data = load_iris()\n",
    "X = data.data  # Features\n",
    "y = data.target  # Target variable\n",
    "\n",
    "# Define Stratified K-Fold cross-validator (5 folds)\n",
    "skf = StratifiedKFold(n_splits=5, shuffle=True, random_state=42)\n",
    "\n",
    "# Initialize Logistic Regression model\n",
    "model = LogisticRegression(max_iter=200)\n",
    "\n",
    "# Perform cross-validation and compute accuracy for each fold\n",
    "accuracies = cross_val_score(model, X, y, cv=skf, scoring='accuracy')\n",
    "\n",
    "# Print accuracy for each fold\n",
    "print(f'Accuracy for each fold: {accuracies}')\n",
    "\n",
    "# Print average accuracy\n",
    "print(f'Average Accuracy: {np.mean(accuracies) * 100:.2f}%')\n"
   ]
  },
  {
   "cell_type": "code",
   "execution_count": null,
   "id": "53ee7161-5b0b-40e5-b9f7-97d40466de9d",
   "metadata": {},
   "outputs": [],
   "source": []
  },
  {
   "cell_type": "markdown",
   "id": "caf8abf9-8b85-4319-8a10-17bcf8f2fc7b",
   "metadata": {},
   "source": [
    "Q8. Write a Python program to load a dataset from a CSV file, apply Logistic Regression, and evaluate its \n",
    "accuracy."
   ]
  },
  {
   "cell_type": "code",
   "execution_count": 10,
   "id": "fd8d4874-f008-465f-b40a-7d4349ee8d0c",
   "metadata": {},
   "outputs": [
    {
     "name": "stdout",
     "output_type": "stream",
     "text": [
      "Model Accuracy: 100.00%\n"
     ]
    }
   ],
   "source": [
    "# Import necessary libraries\n",
    "import pandas as pd\n",
    "import seaborn as sns\n",
    "from sklearn.model_selection import train_test_split\n",
    "from sklearn.linear_model import LogisticRegression\n",
    "from sklearn.metrics import accuracy_score\n",
    "\n",
    "# Load dataset from CSV file (replace 'your_dataset.csv' with actual file path)\n",
    "df = sns.load_dataset('iris')\n",
    "\n",
    "# Assume the last column is the target variable, and others are features\n",
    "X = df.iloc[:, :-1]  # All columns except the last (features)\n",
    "y = df.iloc[:, -1]   # Last column (target)\n",
    "\n",
    "# Split dataset into training (80%) and testing (20%) sets\n",
    "X_train, X_test, y_train, y_test = train_test_split(X, y, test_size=0.2, random_state=42)\n",
    "\n",
    "# Initialize and train Logistic Regression model\n",
    "model = LogisticRegression(max_iter=200)\n",
    "model.fit(X_train, y_train)\n",
    "\n",
    "# Predict target values for the test set\n",
    "y_pred = model.predict(X_test)\n",
    "\n",
    "# Calculate and print model accuracy\n",
    "accuracy = accuracy_score(y_test, y_pred)\n",
    "print(f'Model Accuracy: {accuracy * 100:.2f}%')\n"
   ]
  },
  {
   "cell_type": "code",
   "execution_count": null,
   "id": "6eba3ec1-b718-476d-9598-96bc3b604e05",
   "metadata": {},
   "outputs": [],
   "source": []
  },
  {
   "cell_type": "markdown",
   "id": "148ec9d1-e0b2-4058-9297-6a05f1f58f69",
   "metadata": {},
   "source": [
    "Q9. Write a Python program to apply RandomizedSearchCV for tuning hyperparameters (C, penalty, solver) in \n",
    "Logistic Regression. Print the best parameters and accuracy."
   ]
  },
  {
   "cell_type": "code",
   "execution_count": 11,
   "id": "eeff6418-2f6d-4e45-b4c1-969ce17a5dfb",
   "metadata": {},
   "outputs": [
    {
     "name": "stdout",
     "output_type": "stream",
     "text": [
      "Best Parameters: {'solver': 'saga', 'penalty': 'l1', 'C': 1000.0}\n",
      "Best Model Accuracy: 100.00%\n"
     ]
    }
   ],
   "source": [
    "# Import necessary libraries\n",
    "import numpy as np\n",
    "from sklearn.model_selection import train_test_split, RandomizedSearchCV\n",
    "from sklearn.linear_model import LogisticRegression\n",
    "from sklearn.metrics import accuracy_score\n",
    "from sklearn.datasets import load_iris\n",
    "\n",
    "# Load the dataset (Iris dataset as an example)\n",
    "data = load_iris()\n",
    "X = data.data  # Features\n",
    "y = data.target  # Target variable\n",
    "\n",
    "# Split the dataset into training and testing sets (80% train, 20% test)\n",
    "X_train, X_test, y_train, y_test = train_test_split(X, y, test_size=0.2, random_state=42)\n",
    "\n",
    "# Define the parameter grid for hyperparameter tuning\n",
    "param_dist = {\n",
    "    'C': np.logspace(-3, 3, 10),  # Regularization strength (small to large values)\n",
    "    'penalty': ['l1', 'l2'],  # Type of regularization\n",
    "    'solver': ['liblinear', 'saga']  # Solvers that support L1 and L2 penalties\n",
    "}\n",
    "\n",
    "# Initialize Logistic Regression model\n",
    "model = LogisticRegression(max_iter=500)\n",
    "\n",
    "# Apply RandomizedSearchCV to find the best hyperparameters\n",
    "random_search = RandomizedSearchCV(model, param_dist, n_iter=10, cv=5, scoring='accuracy', n_jobs=-1, random_state=42)\n",
    "random_search.fit(X_train, y_train)\n",
    "\n",
    "# Get the best parameters and best model\n",
    "best_params = random_search.best_params_\n",
    "best_model = random_search.best_estimator_\n",
    "\n",
    "# Predict using the best model\n",
    "y_pred = best_model.predict(X_test)\n",
    "\n",
    "# Calculate accuracy\n",
    "accuracy = accuracy_score(y_test, y_pred)\n",
    "\n",
    "# Print the results\n",
    "print(f'Best Parameters: {best_params}')\n",
    "print(f'Best Model Accuracy: {accuracy * 100:.2f}%')\n"
   ]
  },
  {
   "cell_type": "code",
   "execution_count": null,
   "id": "419144df-4a62-440b-a503-fa21ea16c8a5",
   "metadata": {},
   "outputs": [],
   "source": []
  },
  {
   "cell_type": "markdown",
   "id": "fac99cef-c5d4-49b4-b8b1-70c555ec4bd3",
   "metadata": {},
   "source": [
    "Q10. Write a Python program to implement One-vs-One (OvO) Multiclass Logistic Regression and print accuracy."
   ]
  },
  {
   "cell_type": "code",
   "execution_count": 12,
   "id": "b94f7d4a-8def-4beb-983e-3144187d9dbe",
   "metadata": {},
   "outputs": [
    {
     "name": "stdout",
     "output_type": "stream",
     "text": [
      "Model Accuracy with One-vs-One (OvO): 100.00%\n"
     ]
    }
   ],
   "source": [
    "# Import necessary libraries\n",
    "import pandas as pd\n",
    "from sklearn.model_selection import train_test_split\n",
    "from sklearn.linear_model import LogisticRegression\n",
    "from sklearn.multiclass import OneVsOneClassifier\n",
    "from sklearn.metrics import accuracy_score\n",
    "from sklearn.datasets import load_iris\n",
    "\n",
    "# Load the dataset (Iris dataset as an example)\n",
    "data = load_iris()\n",
    "X = data.data  # Features\n",
    "y = data.target  # Target variable (Multiclass: 0, 1, 2)\n",
    "\n",
    "# Split the dataset into training (80%) and testing (20%) sets\n",
    "X_train, X_test, y_train, y_test = train_test_split(X, y, test_size=0.2, random_state=42)\n",
    "\n",
    "# Initialize Logistic Regression inside One-vs-One (OvO) classifier\n",
    "model = OneVsOneClassifier(LogisticRegression(max_iter=200))\n",
    "\n",
    "# Train the model on the training data\n",
    "model.fit(X_train, y_train)\n",
    "\n",
    "# Predict the target for the test set\n",
    "y_pred = model.predict(X_test)\n",
    "\n",
    "# Calculate accuracy of the model\n",
    "accuracy = accuracy_score(y_test, y_pred)\n",
    "\n",
    "# Print the accuracy\n",
    "print(f'Model Accuracy with One-vs-One (OvO): {accuracy * 100:.2f}%')\n"
   ]
  },
  {
   "cell_type": "code",
   "execution_count": null,
   "id": "7c695d5c-dff5-4ff3-913a-86e507ec336d",
   "metadata": {},
   "outputs": [],
   "source": []
  },
  {
   "cell_type": "markdown",
   "id": "82963de7-3581-4044-8447-835da5517c2c",
   "metadata": {},
   "source": [
    "Q11. Write a Python program to train a Logistic Regression model and visualize the confusion matrix for binary \n",
    "classification."
   ]
  },
  {
   "cell_type": "code",
   "execution_count": 13,
   "id": "ed786961-5cf5-4c4f-a304-3bc5b08cadb6",
   "metadata": {},
   "outputs": [
    {
     "name": "stdout",
     "output_type": "stream",
     "text": [
      "Model Accuracy: 100.00%\n"
     ]
    },
    {
     "data": {
      "image/png": "[encoded data removed]",
      "text/plain": [
       "<Figure size 500x400 with 2 Axes>"
      ]
     },
     "metadata": {},
     "output_type": "display_data"
    }
   ],
   "source": [
    "# Import necessary libraries\n",
    "import pandas as pd\n",
    "import seaborn as sns\n",
    "import matplotlib.pyplot as plt\n",
    "from sklearn.model_selection import train_test_split\n",
    "from sklearn.linear_model import LogisticRegression\n",
    "from sklearn.metrics import confusion_matrix, accuracy_score\n",
    "\n",
    "# Load dataset from CSV (replace 'your_dataset.csv' with actual file path)\n",
    "df = sns.load_dataset('iris')\n",
    "\n",
    "# Assume the last column is the target variable, and others are features\n",
    "X = df.iloc[:, :-1]  # Features (all columns except the last)\n",
    "y = df.iloc[:, -1]   # Target variable (last column, binary: 0 or 1)\n",
    "\n",
    "# Split dataset into training (80%) and testing (20%) sets\n",
    "X_train, X_test, y_train, y_test = train_test_split(X, y, test_size=0.2, random_state=42)\n",
    "\n",
    "# Initialize and train Logistic Regression model\n",
    "model = LogisticRegression(max_iter=200)\n",
    "model.fit(X_train, y_train)\n",
    "\n",
    "# Predict on test data\n",
    "y_pred = model.predict(X_test)\n",
    "\n",
    "# Compute confusion matrix\n",
    "cm = confusion_matrix(y_test, y_pred)\n",
    "\n",
    "# Print accuracy\n",
    "accuracy = accuracy_score(y_test, y_pred)\n",
    "print(f'Model Accuracy: {accuracy * 100:.2f}%')\n",
    "\n",
    "# Visualize confusion matrix using Seaborn heatmap\n",
    "plt.figure(figsize=(5, 4))\n",
    "sns.heatmap(cm, annot=True, fmt='d', cmap='Blues', xticklabels=['Predicted 0', 'Predicted 1'], \n",
    "            yticklabels=['Actual 0', 'Actual 1'])\n",
    "plt.xlabel('Predicted')\n",
    "plt.ylabel('Actual')\n",
    "plt.title('Confusion Matrix')\n",
    "plt.show()\n"
   ]
  },
  {
   "cell_type": "code",
   "execution_count": null,
   "id": "cee27a2d-d4ff-4d03-8825-72a564c4486a",
   "metadata": {},
   "outputs": [],
   "source": []
  },
  {
   "cell_type": "markdown",
   "id": "e327546e-db0d-4e1d-8d29-0881b2174b45",
   "metadata": {},
   "source": [
    "Q12. Write a Python program to train a Logistic Regression model and evaluate its performance using Precision, \n",
    "Recall, and F1-Score."
   ]
  },
  {
   "cell_type": "code",
   "execution_count": 29,
   "id": "de464e77-18e8-49dc-9710-4162dabf181b",
   "metadata": {},
   "outputs": [
    {
     "name": "stdout",
     "output_type": "stream",
     "text": [
      "Accuracy: 72.97%\n",
      "Precision: 0.71\n",
      "Recall: 1.00\n",
      "F1-Score: 0.83\n"
     ]
    }
   ],
   "source": [
    "# Import necessary libraries\n",
    "import seaborn as sns\n",
    "import pandas as pd\n",
    "from sklearn.model_selection import train_test_split\n",
    "from sklearn.linear_model import LogisticRegression\n",
    "from sklearn.metrics import precision_score, recall_score, f1_score, accuracy_score\n",
    "\n",
    "# Load dataset (using Titanic dataset as an example)\n",
    "df = sns.load_dataset('titanic').dropna()  # Drop missing values for simplicity\n",
    "\n",
    "# Select relevant features and target variable\n",
    "X = df[['pclass', 'age', 'fare', 'sibsp', 'parch']]  # Numerical features\n",
    "y = df['survived']  # Binary target variable (0 = No, 1 = Yes)\n",
    "\n",
    "# Split dataset into training (80%) and testing (20%) sets\n",
    "X_train, X_test, y_train, y_test = train_test_split(X, y, test_size=0.2, random_state=42)\n",
    "\n",
    "# Initialize and train Logistic Regression model\n",
    "model = LogisticRegression(max_iter=200)\n",
    "model.fit(X_train, y_train)\n",
    "\n",
    "# Predict on test data\n",
    "y_pred = model.predict(X_test)\n",
    "\n",
    "# Compute evaluation metrics\n",
    "accuracy = accuracy_score(y_test, y_pred)\n",
    "precision = precision_score(y_test, y_pred)\n",
    "recall = recall_score(y_test, y_pred)\n",
    "f1 = f1_score(y_test, y_pred)\n",
    "\n",
    "# Print performance metrics\n",
    "print(f'Accuracy: {accuracy * 100:.2f}%')\n",
    "print(f'Precision: {precision:.2f}')\n",
    "print(f'Recall: {recall:.2f}')\n",
    "print(f'F1-Score: {f1:.2f}')\n"
   ]
  },
  {
   "cell_type": "code",
   "execution_count": null,
   "id": "1b8d63a0-5fd2-4879-8ec1-c8b3750192d5",
   "metadata": {},
   "outputs": [],
   "source": []
  },
  {
   "cell_type": "markdown",
   "id": "8aff426e-d325-4c01-adc8-82ed52e61772",
   "metadata": {},
   "source": [
    "Q13. Write a Python program to train a Logistic Regression model on imbalanced data and apply class weights to \n",
    "improve model performance."
   ]
  },
  {
   "cell_type": "code",
   "execution_count": 30,
   "id": "32533bae-7e67-48ed-b0aa-ea41c77ef4e4",
   "metadata": {},
   "outputs": [
    {
     "name": "stdout",
     "output_type": "stream",
     "text": [
      "Class distribution: Counter({1: 123, 0: 59})\n",
      "Accuracy: 62.16%\n",
      "Classification Report:\n",
      "              precision    recall  f1-score   support\n",
      "\n",
      "           0       0.43      0.50      0.46        12\n",
      "           1       0.74      0.68      0.71        25\n",
      "\n",
      "    accuracy                           0.62        37\n",
      "   macro avg       0.58      0.59      0.58        37\n",
      "weighted avg       0.64      0.62      0.63        37\n",
      "\n"
     ]
    }
   ],
   "source": [
    "# Import necessary libraries\n",
    "import seaborn as sns\n",
    "import pandas as pd\n",
    "from sklearn.model_selection import train_test_split\n",
    "from sklearn.linear_model import LogisticRegression\n",
    "from sklearn.metrics import classification_report, accuracy_score\n",
    "from collections import Counter\n",
    "\n",
    "# Load dataset (Using Titanic dataset as an example)\n",
    "df = sns.load_dataset('titanic').dropna()  # Drop missing values for simplicity\n",
    "\n",
    "# Select relevant features and target variable\n",
    "X = df[['pclass', 'age', 'fare', 'sibsp', 'parch']]  # Numerical features\n",
    "y = df['survived']  # Binary target variable (0 = No, 1 = Yes)\n",
    "\n",
    "# Check class distribution before applying class weights\n",
    "print(\"Class distribution:\", Counter(y))\n",
    "\n",
    "# Split dataset into training (80%) and testing (20%) sets\n",
    "X_train, X_test, y_train, y_test = train_test_split(X, y, test_size=0.2, random_state=42, stratify=y)\n",
    "\n",
    "# Initialize and train Logistic Regression model with class weights\n",
    "model = LogisticRegression(max_iter=200, class_weight='balanced')\n",
    "model.fit(X_train, y_train)\n",
    "\n",
    "# Predict on test data\n",
    "y_pred = model.predict(X_test)\n",
    "\n",
    "# Compute and print performance metrics\n",
    "accuracy = accuracy_score(y_test, y_pred)\n",
    "print(f'Accuracy: {accuracy * 100:.2f}%')\n",
    "print('Classification Report:')\n",
    "print(classification_report(y_test, y_pred))\n"
   ]
  },
  {
   "cell_type": "code",
   "execution_count": null,
   "id": "92d2e695-8481-493b-bee6-5ff45a959420",
   "metadata": {},
   "outputs": [],
   "source": []
  },
  {
   "cell_type": "markdown",
   "id": "9004a15d-3090-48ea-b6b2-7ea687230f5d",
   "metadata": {},
   "source": [
    "Q14. Write a Python program to train Logistic Regression on the Titanic dataset, handle missing values, and \n",
    "evaluate performance."
   ]
  },
  {
   "cell_type": "code",
   "execution_count": 31,
   "id": "3020fc82-5214-4db6-90eb-1bab89b19d48",
   "metadata": {},
   "outputs": [
    {
     "name": "stdout",
     "output_type": "stream",
     "text": [
      "Accuracy: 67.60%\n",
      "Classification Report:\n",
      "              precision    recall  f1-score   support\n",
      "\n",
      "           0       0.69      0.85      0.76       110\n",
      "           1       0.62      0.41      0.49        69\n",
      "\n",
      "    accuracy                           0.68       179\n",
      "   macro avg       0.66      0.63      0.63       179\n",
      "weighted avg       0.67      0.68      0.66       179\n",
      "\n"
     ]
    }
   ],
   "source": [
    "# Import necessary libraries\n",
    "import seaborn as sns\n",
    "import pandas as pd\n",
    "from sklearn.model_selection import train_test_split\n",
    "from sklearn.linear_model import LogisticRegression\n",
    "from sklearn.metrics import classification_report, accuracy_score\n",
    "from sklearn.impute import SimpleImputer\n",
    "\n",
    "# Load Titanic dataset\n",
    "df = sns.load_dataset('titanic')\n",
    "\n",
    "# Select relevant features and target variable\n",
    "X = df[['pclass', 'age', 'fare', 'sibsp', 'parch']]  # Numerical features\n",
    "y = df['survived']  # Binary target variable (0 = No, 1 = Yes)\n",
    "\n",
    "# Handle missing values using Mean Imputation\n",
    "imputer = SimpleImputer(strategy='mean')  # Replace NaN with mean value\n",
    "X_imputed = imputer.fit_transform(X)  # Apply imputation\n",
    "\n",
    "# Split dataset into training (80%) and testing (20%) sets\n",
    "X_train, X_test, y_train, y_test = train_test_split(X_imputed, y, test_size=0.2, random_state=42, stratify=y)\n",
    "\n",
    "# Initialize and train Logistic Regression model\n",
    "model = LogisticRegression(max_iter=200)\n",
    "model.fit(X_train, y_train)\n",
    "\n",
    "# Predict on test data\n",
    "y_pred = model.predict(X_test)\n",
    "\n",
    "# Compute and print performance metrics\n",
    "accuracy = accuracy_score(y_test, y_pred)\n",
    "print(f'Accuracy: {accuracy * 100:.2f}%')\n",
    "print('Classification Report:')\n",
    "print(classification_report(y_test, y_pred))\n"
   ]
  },
  {
   "cell_type": "code",
   "execution_count": null,
   "id": "87e6c92d-ec7d-4196-b6c3-c156ecfb3f7a",
   "metadata": {},
   "outputs": [],
   "source": []
  },
  {
   "cell_type": "markdown",
   "id": "5564e645-e9de-4a83-b4f6-a090693fbcc9",
   "metadata": {},
   "source": [
    "Q15. Write a Python program to apply feature scaling (Standardization) before training a Logistic Regression \n",
    "model. Evaluate its accuracy and compare results with and without scaling."
   ]
  },
  {
   "cell_type": "code",
   "execution_count": 32,
   "id": "39248a31-fdd4-4384-bb2b-930ca0311da1",
   "metadata": {},
   "outputs": [
    {
     "name": "stdout",
     "output_type": "stream",
     "text": [
      "Accuracy WITHOUT Scaling: 67.60%\n",
      "Accuracy WITH Scaling: 67.60%\n",
      "\n",
      "Classification Report (With Scaling):\n",
      "              precision    recall  f1-score   support\n",
      "\n",
      "           0       0.69      0.85      0.76       110\n",
      "           1       0.62      0.41      0.49        69\n",
      "\n",
      "    accuracy                           0.68       179\n",
      "   macro avg       0.66      0.63      0.63       179\n",
      "weighted avg       0.67      0.68      0.66       179\n",
      "\n"
     ]
    }
   ],
   "source": [
    "# Import necessary libraries\n",
    "import seaborn as sns\n",
    "import pandas as pd\n",
    "from sklearn.model_selection import train_test_split\n",
    "from sklearn.linear_model import LogisticRegression\n",
    "from sklearn.preprocessing import StandardScaler\n",
    "from sklearn.metrics import accuracy_score, classification_report\n",
    "from sklearn.impute import SimpleImputer\n",
    "\n",
    "# Load Titanic dataset\n",
    "df = sns.load_dataset('titanic')\n",
    "\n",
    "# Select relevant features and target variable\n",
    "X = df[['pclass', 'age', 'fare', 'sibsp', 'parch']]  # Numerical features\n",
    "y = df['survived']  # Binary target variable (0 = No, 1 = Yes)\n",
    "\n",
    "# Handle missing values using Mean Imputation\n",
    "imputer = SimpleImputer(strategy='mean')  \n",
    "X_imputed = imputer.fit_transform(X)\n",
    "\n",
    "# Split dataset into training (80%) and testing (20%) sets\n",
    "X_train, X_test, y_train, y_test = train_test_split(X_imputed, y, test_size=0.2, random_state=42, stratify=y)\n",
    "\n",
    "# Train Logistic Regression WITHOUT Scaling\n",
    "model_no_scaling = LogisticRegression(max_iter=200)\n",
    "model_no_scaling.fit(X_train, y_train)\n",
    "y_pred_no_scaling = model_no_scaling.predict(X_test)\n",
    "accuracy_no_scaling = accuracy_score(y_test, y_pred_no_scaling)\n",
    "\n",
    "# Apply Standardization (Feature Scaling)\n",
    "scaler = StandardScaler()\n",
    "X_train_scaled = scaler.fit_transform(X_train)\n",
    "X_test_scaled = scaler.transform(X_test)\n",
    "\n",
    "# Train Logistic Regression WITH Scaling\n",
    "model_scaled = LogisticRegression(max_iter=200)\n",
    "model_scaled.fit(X_train_scaled, y_train)\n",
    "y_pred_scaled = model_scaled.predict(X_test_scaled)\n",
    "accuracy_scaled = accuracy_score(y_test, y_pred_scaled)\n",
    "\n",
    "# Print accuracy comparison\n",
    "print(f'Accuracy WITHOUT Scaling: {accuracy_no_scaling * 100:.2f}%')\n",
    "print(f'Accuracy WITH Scaling: {accuracy_scaled * 100:.2f}%')\n",
    "\n",
    "# Print classification report for scaled model\n",
    "print(\"\\nClassification Report (With Scaling):\")\n",
    "print(classification_report(y_test, y_pred_scaled))\n"
   ]
  },
  {
   "cell_type": "code",
   "execution_count": null,
   "id": "6dd928a2-e47a-4a61-8b34-2054c8cc941a",
   "metadata": {},
   "outputs": [],
   "source": []
  },
  {
   "cell_type": "markdown",
   "id": "09a6ebec-a6d7-478b-8f04-d38f58baf6ab",
   "metadata": {},
   "source": [
    "Q16. Write a Python program to train Logistic Regression and evaluate its performance using ROC-AUC score."
   ]
  },
  {
   "cell_type": "code",
   "execution_count": 33,
   "id": "7befb3e0-4d31-459d-b389-f5870cca3df3",
   "metadata": {},
   "outputs": [
    {
     "name": "stdout",
     "output_type": "stream",
     "text": [
      "ROC-AUC Score: 0.7040\n"
     ]
    },
    {
     "data": {
      "image/png": "[encoded data removed]",
      "text/plain": [
       "<Figure size 800x600 with 1 Axes>"
      ]
     },
     "metadata": {},
     "output_type": "display_data"
    }
   ],
   "source": [
    "# Import necessary libraries\n",
    "import seaborn as sns\n",
    "import pandas as pd\n",
    "from sklearn.model_selection import train_test_split\n",
    "from sklearn.linear_model import LogisticRegression\n",
    "from sklearn.preprocessing import StandardScaler\n",
    "from sklearn.impute import SimpleImputer\n",
    "from sklearn.metrics import roc_auc_score, roc_curve, accuracy_score\n",
    "import matplotlib.pyplot as plt\n",
    "\n",
    "# Load Titanic dataset\n",
    "df = sns.load_dataset('titanic')\n",
    "\n",
    "# Select relevant features and target variable\n",
    "X = df[['pclass', 'age', 'fare', 'sibsp', 'parch']]  # Numerical features\n",
    "y = df['survived']  # Binary target variable (0 = No, 1 = Yes)\n",
    "\n",
    "# Handle missing values using Mean Imputation\n",
    "imputer = SimpleImputer(strategy='mean')  \n",
    "X_imputed = imputer.fit_transform(X)\n",
    "\n",
    "# Apply Standardization (Feature Scaling)\n",
    "scaler = StandardScaler()\n",
    "X_scaled = scaler.fit_transform(X_imputed)\n",
    "\n",
    "# Split dataset into training (80%) and testing (20%) sets\n",
    "X_train, X_test, y_train, y_test = train_test_split(X_scaled, y, test_size=0.2, random_state=42, stratify=y)\n",
    "\n",
    "# Train Logistic Regression model\n",
    "model = LogisticRegression(max_iter=200)\n",
    "model.fit(X_train, y_train)\n",
    "\n",
    "# Predict probabilities for ROC-AUC\n",
    "y_probs = model.predict_proba(X_test)[:, 1]  # Get probabilities for class 1\n",
    "\n",
    "# Compute ROC-AUC score\n",
    "roc_auc = roc_auc_score(y_test, y_probs)\n",
    "print(f'ROC-AUC Score: {roc_auc:.4f}')\n",
    "\n",
    "# Compute ROC Curve\n",
    "fpr, tpr, _ = roc_curve(y_test, y_probs)\n",
    "\n",
    "# Plot ROC Curve\n",
    "plt.figure(figsize=(8, 6))\n",
    "plt.plot(fpr, tpr, color='blue', label=f'ROC Curve (AUC = {roc_auc:.4f})')\n",
    "plt.plot([0, 1], [0, 1], color='red', linestyle='--')  # Diagonal line\n",
    "plt.xlabel('False Positive Rate (FPR)')\n",
    "plt.ylabel('True Positive Rate (TPR)')\n",
    "plt.title('ROC Curve for Logistic Regression')\n",
    "plt.legend()\n",
    "plt.show()\n"
   ]
  },
  {
   "cell_type": "code",
   "execution_count": null,
   "id": "20c9bd94-2ed1-4222-b1bf-5211c3f31211",
   "metadata": {},
   "outputs": [],
   "source": []
  },
  {
   "cell_type": "markdown",
   "id": "a86bec1a-2510-4bd3-a34a-f0011ac269ac",
   "metadata": {},
   "source": [
    "Q17. Write a Python program to train Logistic Regression using a custom learning rate (C=0.5) and evaluate \n",
    "accuracy."
   ]
  },
  {
   "cell_type": "code",
   "execution_count": 34,
   "id": "d4d3501e-e2bd-46fd-99dc-ca9b7e3f23fa",
   "metadata": {},
   "outputs": [
    {
     "name": "stdout",
     "output_type": "stream",
     "text": [
      "Accuracy with C=0.5: 67.60%\n",
      "\n",
      "Classification Report:\n",
      "              precision    recall  f1-score   support\n",
      "\n",
      "           0       0.69      0.85      0.76       110\n",
      "           1       0.62      0.41      0.49        69\n",
      "\n",
      "    accuracy                           0.68       179\n",
      "   macro avg       0.66      0.63      0.63       179\n",
      "weighted avg       0.67      0.68      0.66       179\n",
      "\n"
     ]
    }
   ],
   "source": [
    "# Import necessary libraries\n",
    "import seaborn as sns\n",
    "import pandas as pd\n",
    "from sklearn.model_selection import train_test_split\n",
    "from sklearn.linear_model import LogisticRegression\n",
    "from sklearn.preprocessing import StandardScaler\n",
    "from sklearn.impute import SimpleImputer\n",
    "from sklearn.metrics import accuracy_score, classification_report\n",
    "\n",
    "# Load Titanic dataset\n",
    "df = sns.load_dataset('titanic')\n",
    "\n",
    "# Select relevant features and target variable\n",
    "X = df[['pclass', 'age', 'fare', 'sibsp', 'parch']]  # Numerical features\n",
    "y = df['survived']  # Binary target variable (0 = No, 1 = Yes)\n",
    "\n",
    "# Handle missing values using Mean Imputation\n",
    "imputer = SimpleImputer(strategy='mean')  \n",
    "X_imputed = imputer.fit_transform(X)\n",
    "\n",
    "# Apply Standardization (Feature Scaling)\n",
    "scaler = StandardScaler()\n",
    "X_scaled = scaler.fit_transform(X_imputed)\n",
    "\n",
    "# Split dataset into training (80%) and testing (20%) sets\n",
    "X_train, X_test, y_train, y_test = train_test_split(X_scaled, y, test_size=0.2, random_state=42, stratify=y)\n",
    "\n",
    "# Train Logistic Regression with custom learning rate (C=0.5)\n",
    "model = LogisticRegression(C=0.5, max_iter=200)\n",
    "model.fit(X_train, y_train)\n",
    "\n",
    "# Predict on test data\n",
    "y_pred = model.predict(X_test)\n",
    "\n",
    "# Compute accuracy\n",
    "accuracy = accuracy_score(y_test, y_pred)\n",
    "print(f'Accuracy with C=0.5: {accuracy * 100:.2f}%')\n",
    "\n",
    "# Print classification report\n",
    "print(\"\\nClassification Report:\")\n",
    "print(classification_report(y_test, y_pred))\n"
   ]
  },
  {
   "cell_type": "code",
   "execution_count": null,
   "id": "009b8cae-e7b1-4dd4-857b-c281c7d8647a",
   "metadata": {},
   "outputs": [],
   "source": []
  },
  {
   "cell_type": "markdown",
   "id": "4855dc40-6ecd-4976-a910-ca1ee3981dea",
   "metadata": {},
   "source": [
    "Q18. Write a Python program to train Logistic Regression and identify important features based on model \n",
    "coefficients."
   ]
  },
  {
   "cell_type": "code",
   "execution_count": 35,
   "id": "8164dace-a5e9-4290-a1cf-c027f0c9f1ef",
   "metadata": {},
   "outputs": [
    {
     "name": "stdout",
     "output_type": "stream",
     "text": [
      "Feature Importance (Based on Logistic Regression Coefficients):\n",
      "  Feature  Coefficient\n",
      "0  pclass    -0.769091\n",
      "1     age    -0.498407\n",
      "2    fare     0.296398\n",
      "3   sibsp    -0.229736\n",
      "4   parch     0.177238\n"
     ]
    },
    {
     "data": {
      "image/png": "[encoded data removed]",
      "text/plain": [
       "<Figure size 800x600 with 1 Axes>"
      ]
     },
     "metadata": {},
     "output_type": "display_data"
    }
   ],
   "source": [
    "# Import necessary libraries\n",
    "import seaborn as sns\n",
    "import pandas as pd\n",
    "import numpy as np\n",
    "from sklearn.model_selection import train_test_split\n",
    "from sklearn.linear_model import LogisticRegression\n",
    "from sklearn.preprocessing import StandardScaler\n",
    "from sklearn.impute import SimpleImputer\n",
    "\n",
    "# Load Titanic dataset\n",
    "df = sns.load_dataset('titanic')\n",
    "\n",
    "# Select relevant numerical features and target variable\n",
    "X = df[['pclass', 'age', 'fare', 'sibsp', 'parch']]  # Numerical features\n",
    "y = df['survived']  # Binary target variable (0 = No, 1 = Yes)\n",
    "\n",
    "# Handle missing values using Mean Imputation\n",
    "imputer = SimpleImputer(strategy='mean')  \n",
    "X_imputed = imputer.fit_transform(X)\n",
    "\n",
    "# Apply Standardization (Feature Scaling)\n",
    "scaler = StandardScaler()\n",
    "X_scaled = scaler.fit_transform(X_imputed)\n",
    "\n",
    "# Split dataset into training (80%) and testing (20%) sets\n",
    "X_train, X_test, y_train, y_test = train_test_split(X_scaled, y, test_size=0.2, random_state=42, stratify=y)\n",
    "\n",
    "# Train Logistic Regression model\n",
    "model = LogisticRegression(max_iter=200)\n",
    "model.fit(X_train, y_train)\n",
    "\n",
    "# Extract feature importance (model coefficients)\n",
    "feature_importance = pd.DataFrame({'Feature': X.columns, 'Coefficient': model.coef_[0]})\n",
    "\n",
    "# Sort features by importance (absolute coefficient values)\n",
    "feature_importance['Abs_Coefficient'] = feature_importance['Coefficient'].abs()\n",
    "feature_importance = feature_importance.sort_values(by='Abs_Coefficient', ascending=False)\n",
    "\n",
    "# Print feature importance\n",
    "print(\"Feature Importance (Based on Logistic Regression Coefficients):\")\n",
    "print(feature_importance[['Feature', 'Coefficient']])\n",
    "\n",
    "# Optional: Visualizing Feature Importance\n",
    "import matplotlib.pyplot as plt\n",
    "\n",
    "plt.figure(figsize=(8, 6))\n",
    "plt.barh(feature_importance['Feature'], feature_importance['Coefficient'], color='skyblue')\n",
    "plt.xlabel('Coefficient Value')\n",
    "plt.ylabel('Feature')\n",
    "plt.title('Feature Importance in Logistic Regression')\n",
    "plt.axvline(x=0, color='black', linestyle='--')\n",
    "plt.show()\n"
   ]
  },
  {
   "cell_type": "code",
   "execution_count": null,
   "id": "cc2cde74-605a-4df7-a0eb-34d29442976a",
   "metadata": {},
   "outputs": [],
   "source": []
  },
  {
   "cell_type": "markdown",
   "id": "f49a8724-3a57-416d-94cc-448792a9faf6",
   "metadata": {},
   "source": [
    "Q19. Write a Python program to train Logistic Regression and evaluate its performance using Cohen’s Kappa \n",
    "Score."
   ]
  },
  {
   "cell_type": "code",
   "execution_count": 36,
   "id": "6f8e6a8e-af5d-4e18-8f91-d91f4ea39b37",
   "metadata": {},
   "outputs": [
    {
     "name": "stdout",
     "output_type": "stream",
     "text": [
      "Accuracy: 67.60%\n",
      "Cohen’s Kappa Score: 0.2687\n"
     ]
    }
   ],
   "source": [
    "# Import necessary libraries\n",
    "import seaborn as sns\n",
    "import pandas as pd\n",
    "from sklearn.model_selection import train_test_split\n",
    "from sklearn.linear_model import LogisticRegression\n",
    "from sklearn.preprocessing import StandardScaler\n",
    "from sklearn.impute import SimpleImputer\n",
    "from sklearn.metrics import cohen_kappa_score, accuracy_score\n",
    "\n",
    "# Load Titanic dataset\n",
    "df = sns.load_dataset('titanic')\n",
    "\n",
    "# Select relevant numerical features and target variable\n",
    "X = df[['pclass', 'age', 'fare', 'sibsp', 'parch']]  # Numerical features\n",
    "y = df['survived']  # Binary target variable (0 = No, 1 = Yes)\n",
    "\n",
    "# Handle missing values using Mean Imputation\n",
    "imputer = SimpleImputer(strategy='mean')  \n",
    "X_imputed = imputer.fit_transform(X)\n",
    "\n",
    "# Apply Standardization (Feature Scaling)\n",
    "scaler = StandardScaler()\n",
    "X_scaled = scaler.fit_transform(X_imputed)\n",
    "\n",
    "# Split dataset into training (80%) and testing (20%) sets\n",
    "X_train, X_test, y_train, y_test = train_test_split(X_scaled, y, test_size=0.2, random_state=42, stratify=y)\n",
    "\n",
    "# Train Logistic Regression model\n",
    "model = LogisticRegression(max_iter=200)\n",
    "model.fit(X_train, y_train)\n",
    "\n",
    "# Predict on test data\n",
    "y_pred = model.predict(X_test)\n",
    "\n",
    "# Compute Cohen’s Kappa Score\n",
    "kappa_score = cohen_kappa_score(y_test, y_pred)\n",
    "accuracy = accuracy_score(y_test, y_pred)\n",
    "\n",
    "# Print results\n",
    "print(f'Accuracy: {accuracy * 100:.2f}%')\n",
    "print(f'Cohen’s Kappa Score: {kappa_score:.4f}')\n"
   ]
  },
  {
   "cell_type": "code",
   "execution_count": null,
   "id": "7cc37417-ecc3-4cb2-8afe-9fa9dfd7d73f",
   "metadata": {},
   "outputs": [],
   "source": []
  },
  {
   "cell_type": "markdown",
   "id": "4137b9c8-f0f2-45c5-97f3-b08dbb52fc01",
   "metadata": {},
   "source": [
    "Q20. Write a Python program to train Logistic Regression and visualize the Precision-Recall Curve for binary \n",
    "classification."
   ]
  },
  {
   "cell_type": "code",
   "execution_count": 37,
   "id": "6a3642f2-e8c7-4026-84ec-04a730604c28",
   "metadata": {},
   "outputs": [
    {
     "data": {
      "image/png": "[encoded data removed]",
      "text/plain": [
       "<Figure size 800x600 with 1 Axes>"
      ]
     },
     "metadata": {},
     "output_type": "display_data"
    }
   ],
   "source": [
    "# Import necessary libraries\n",
    "import seaborn as sns\n",
    "import numpy as np\n",
    "import matplotlib.pyplot as plt\n",
    "from sklearn.model_selection import train_test_split\n",
    "from sklearn.linear_model import LogisticRegression\n",
    "from sklearn.preprocessing import StandardScaler\n",
    "from sklearn.impute import SimpleImputer\n",
    "from sklearn.metrics import precision_recall_curve, auc\n",
    "\n",
    "# Load Titanic dataset\n",
    "df = sns.load_dataset('titanic')\n",
    "\n",
    "# Select relevant numerical features and target variable\n",
    "X = df[['pclass', 'age', 'fare', 'sibsp', 'parch']]  # Numerical features\n",
    "y = df['survived']  # Binary target variable (0 = No, 1 = Yes)\n",
    "\n",
    "# Handle missing values using Mean Imputation\n",
    "imputer = SimpleImputer(strategy='mean')  \n",
    "X_imputed = imputer.fit_transform(X)\n",
    "\n",
    "# Apply Standardization (Feature Scaling)\n",
    "scaler = StandardScaler()\n",
    "X_scaled = scaler.fit_transform(X_imputed)\n",
    "\n",
    "# Split dataset into training (80%) and testing (20%) sets\n",
    "X_train, X_test, y_train, y_test = train_test_split(X_scaled, y, test_size=0.2, random_state=42, stratify=y)\n",
    "\n",
    "# Train Logistic Regression model\n",
    "model = LogisticRegression(max_iter=200)\n",
    "model.fit(X_train, y_train)\n",
    "\n",
    "# Predict probabilities for the positive class\n",
    "y_scores = model.predict_proba(X_test)[:, 1]\n",
    "\n",
    "# Compute Precision-Recall values\n",
    "precision, recall, _ = precision_recall_curve(y_test, y_scores)\n",
    "\n",
    "# Compute AUC (Area Under Curve) for Precision-Recall\n",
    "pr_auc = auc(recall, precision)\n",
    "\n",
    "# Plot Precision-Recall Curve\n",
    "plt.figure(figsize=(8, 6))\n",
    "plt.plot(recall, precision, marker='.', label=f'PR AUC = {pr_auc:.2f}')\n",
    "plt.xlabel('Recall')\n",
    "plt.ylabel('Precision')\n",
    "plt.title('Precision-Recall Curve')\n",
    "plt.legend()\n",
    "plt.grid()\n",
    "plt.show()\n"
   ]
  },
  {
   "cell_type": "code",
   "execution_count": null,
   "id": "c2ab241c-508d-4c3d-a0f0-731460b35fff",
   "metadata": {},
   "outputs": [],
   "source": []
  },
  {
   "cell_type": "markdown",
   "id": "ea2b74ee-fae3-4e46-8da0-bfe19802a6c0",
   "metadata": {},
   "source": [
    "Q21. Write a Python program to train Logistic Regression with different solvers (liblinear, saga, lbfgs) and compare \n",
    "their accuracy."
   ]
  },
  {
   "cell_type": "code",
   "execution_count": 38,
   "id": "7b2a74bd-2991-4b18-8c46-559d795cae88",
   "metadata": {},
   "outputs": [
    {
     "name": "stdout",
     "output_type": "stream",
     "text": [
      "Solver Comparison - Logistic Regression Accuracy:\n",
      "liblinear: 67.60%\n",
      "saga: 67.60%\n",
      "lbfgs: 67.60%\n"
     ]
    }
   ],
   "source": [
    "# Import necessary libraries\n",
    "import seaborn as sns\n",
    "import pandas as pd\n",
    "from sklearn.model_selection import train_test_split\n",
    "from sklearn.linear_model import LogisticRegression\n",
    "from sklearn.preprocessing import StandardScaler\n",
    "from sklearn.impute import SimpleImputer\n",
    "from sklearn.metrics import accuracy_score\n",
    "\n",
    "# Load Titanic dataset\n",
    "df = sns.load_dataset('titanic')\n",
    "\n",
    "# Select relevant numerical features and target variable\n",
    "X = df[['pclass', 'age', 'fare', 'sibsp', 'parch']]  # Numerical features\n",
    "y = df['survived']  # Binary target variable (0 = No, 1 = Yes)\n",
    "\n",
    "# Handle missing values using Mean Imputation\n",
    "imputer = SimpleImputer(strategy='mean')  \n",
    "X_imputed = imputer.fit_transform(X)\n",
    "\n",
    "# Apply Standardization (Feature Scaling)\n",
    "scaler = StandardScaler()\n",
    "X_scaled = scaler.fit_transform(X_imputed)\n",
    "\n",
    "# Split dataset into training (80%) and testing (20%) sets\n",
    "X_train, X_test, y_train, y_test = train_test_split(X_scaled, y, test_size=0.2, random_state=42, stratify=y)\n",
    "\n",
    "# Define solvers to compare\n",
    "solvers = ['liblinear', 'saga', 'lbfgs']\n",
    "\n",
    "# Train Logistic Regression with different solvers and compare accuracy\n",
    "accuracy_results = {}\n",
    "\n",
    "for solver in solvers:\n",
    "    model = LogisticRegression(solver=solver, max_iter=500, random_state=42)\n",
    "    model.fit(X_train, y_train)\n",
    "    y_pred = model.predict(X_test)\n",
    "    accuracy = accuracy_score(y_test, y_pred)\n",
    "    accuracy_results[solver] = accuracy\n",
    "\n",
    "# Print accuracy for each solver\n",
    "print(\"Solver Comparison - Logistic Regression Accuracy:\")\n",
    "for solver, acc in accuracy_results.items():\n",
    "    print(f\"{solver}: {acc * 100:.2f}%\")\n"
   ]
  },
  {
   "cell_type": "code",
   "execution_count": null,
   "id": "61a7ed75-6775-4e64-90bb-64f87dd8c386",
   "metadata": {},
   "outputs": [],
   "source": []
  },
  {
   "cell_type": "markdown",
   "id": "a8fbe60e-a799-4d93-a622-41645a8781df",
   "metadata": {},
   "source": [
    "Q22. Write a Python program to train Logistic Regression and evaluate its performance using Matthews \n",
    "Correlation Coefficient (MCC)."
   ]
  },
  {
   "cell_type": "code",
   "execution_count": 39,
   "id": "f403b375-b829-4e32-b039-e5d8560db4d5",
   "metadata": {},
   "outputs": [
    {
     "name": "stdout",
     "output_type": "stream",
     "text": [
      "Accuracy: 67.60%\n",
      "Matthews Correlation Coefficient (MCC): 0.2819\n"
     ]
    }
   ],
   "source": [
    "# Import necessary libraries\n",
    "import seaborn as sns\n",
    "import pandas as pd\n",
    "from sklearn.model_selection import train_test_split\n",
    "from sklearn.linear_model import LogisticRegression\n",
    "from sklearn.preprocessing import StandardScaler\n",
    "from sklearn.impute import SimpleImputer\n",
    "from sklearn.metrics import matthews_corrcoef, accuracy_score\n",
    "\n",
    "# Load Titanic dataset\n",
    "df = sns.load_dataset('titanic')\n",
    "\n",
    "# Select relevant numerical features and target variable\n",
    "X = df[['pclass', 'age', 'fare', 'sibsp', 'parch']]  # Numerical features\n",
    "y = df['survived']  # Binary target variable (0 = No, 1 = Yes)\n",
    "\n",
    "# Handle missing values using Mean Imputation\n",
    "imputer = SimpleImputer(strategy='mean')  \n",
    "X_imputed = imputer.fit_transform(X)\n",
    "\n",
    "# Apply Standardization (Feature Scaling)\n",
    "scaler = StandardScaler()\n",
    "X_scaled = scaler.fit_transform(X_imputed)\n",
    "\n",
    "# Split dataset into training (80%) and testing (20%) sets\n",
    "X_train, X_test, y_train, y_test = train_test_split(X_scaled, y, test_size=0.2, random_state=42, stratify=y)\n",
    "\n",
    "# Train Logistic Regression model\n",
    "model = LogisticRegression(max_iter=200)\n",
    "model.fit(X_train, y_train)\n",
    "\n",
    "# Predict on test data\n",
    "y_pred = model.predict(X_test)\n",
    "\n",
    "# Compute MCC and Accuracy\n",
    "mcc_score = matthews_corrcoef(y_test, y_pred)\n",
    "accuracy = accuracy_score(y_test, y_pred)\n",
    "\n",
    "# Print results\n",
    "print(f'Accuracy: {accuracy * 100:.2f}%')\n",
    "print(f'Matthews Correlation Coefficient (MCC): {mcc_score:.4f}')\n"
   ]
  },
  {
   "cell_type": "code",
   "execution_count": null,
   "id": "65ede3e0-cbe3-4304-9cf9-b3b88ecb9fc4",
   "metadata": {},
   "outputs": [],
   "source": []
  },
  {
   "cell_type": "markdown",
   "id": "9618fa3d-fd6a-49cf-ab2b-45034436fedd",
   "metadata": {},
   "source": [
    "Q23. Write a Python program to train Logistic Regression on both raw and standardized data. Compare their \n",
    "accuracy to see the impact of feature scaling."
   ]
  },
  {
   "cell_type": "code",
   "execution_count": 40,
   "id": "4158e87a-ac72-4de8-9b3d-b675ac23730f",
   "metadata": {},
   "outputs": [
    {
     "name": "stdout",
     "output_type": "stream",
     "text": [
      "Accuracy on Raw Data: 67.60%\n",
      "Accuracy on Standardized Data: 67.60%\n"
     ]
    }
   ],
   "source": [
    "# Import necessary libraries\n",
    "import seaborn as sns\n",
    "import pandas as pd\n",
    "from sklearn.model_selection import train_test_split\n",
    "from sklearn.linear_model import LogisticRegression\n",
    "from sklearn.preprocessing import StandardScaler\n",
    "from sklearn.impute import SimpleImputer\n",
    "from sklearn.metrics import accuracy_score\n",
    "\n",
    "# Load Titanic dataset\n",
    "df = sns.load_dataset('titanic')\n",
    "\n",
    "# Select relevant numerical features and target variable\n",
    "X = df[['pclass', 'age', 'fare', 'sibsp', 'parch']]  # Numerical features\n",
    "y = df['survived']  # Binary target variable (0 = No, 1 = Yes)\n",
    "\n",
    "# Handle missing values using Mean Imputation\n",
    "imputer = SimpleImputer(strategy='mean')  \n",
    "X_imputed = imputer.fit_transform(X)\n",
    "\n",
    "# Split dataset into training (80%) and testing (20%) sets\n",
    "X_train_raw, X_test_raw, y_train, y_test = train_test_split(X_imputed, y, test_size=0.2, random_state=42, stratify=y)\n",
    "\n",
    "# Train Logistic Regression on Raw Data (Without Scaling)\n",
    "model_raw = LogisticRegression(max_iter=200)\n",
    "model_raw.fit(X_train_raw, y_train)\n",
    "y_pred_raw = model_raw.predict(X_test_raw)\n",
    "accuracy_raw = accuracy_score(y_test, y_pred_raw)\n",
    "\n",
    "# Apply Standardization (Feature Scaling)\n",
    "scaler = StandardScaler()\n",
    "X_train_scaled = scaler.fit_transform(X_train_raw)\n",
    "X_test_scaled = scaler.transform(X_test_raw)\n",
    "\n",
    "# Train Logistic Regression on Standardized Data\n",
    "model_scaled = LogisticRegression(max_iter=200)\n",
    "model_scaled.fit(X_train_scaled, y_train)\n",
    "y_pred_scaled = model_scaled.predict(X_test_scaled)\n",
    "accuracy_scaled = accuracy_score(y_test, y_pred_scaled)\n",
    "\n",
    "# Print accuracy comparison\n",
    "print(f'Accuracy on Raw Data: {accuracy_raw * 100:.2f}%')\n",
    "print(f'Accuracy on Standardized Data: {accuracy_scaled * 100:.2f}%')\n"
   ]
  },
  {
   "cell_type": "code",
   "execution_count": null,
   "id": "5f634581-9c3b-43e1-ae64-98b632186956",
   "metadata": {},
   "outputs": [],
   "source": []
  },
  {
   "cell_type": "markdown",
   "id": "77f0042f-5499-4010-a33a-199663f5614d",
   "metadata": {},
   "source": [
    "Q24. Write a Python program to train Logistic Regression and find the optimal C (regularization strength) using \n",
    "cross-validation."
   ]
  },
  {
   "cell_type": "code",
   "execution_count": 41,
   "id": "c4fbfb67-d721-4dd4-ab65-fbd86bf6cb2d",
   "metadata": {},
   "outputs": [
    {
     "name": "stdout",
     "output_type": "stream",
     "text": [
      "Optimal C value: 0.46415888336127775\n",
      "Best cross-validation accuracy: 71.49%\n",
      "Final test set accuracy: 67.60%\n"
     ]
    }
   ],
   "source": [
    "# Import necessary libraries\n",
    "import seaborn as sns\n",
    "import numpy as np\n",
    "from sklearn.model_selection import train_test_split, GridSearchCV\n",
    "from sklearn.linear_model import LogisticRegression\n",
    "from sklearn.preprocessing import StandardScaler\n",
    "from sklearn.impute import SimpleImputer\n",
    "from sklearn.metrics import accuracy_score\n",
    "\n",
    "# Load Titanic dataset\n",
    "df = sns.load_dataset('titanic')\n",
    "\n",
    "# Select relevant numerical features and target variable\n",
    "X = df[['pclass', 'age', 'fare', 'sibsp', 'parch']]  # Numerical features\n",
    "y = df['survived']  # Binary target variable (0 = No, 1 = Yes)\n",
    "\n",
    "# Handle missing values using Mean Imputation\n",
    "imputer = SimpleImputer(strategy='mean')  \n",
    "X_imputed = imputer.fit_transform(X)\n",
    "\n",
    "# Apply Standardization (Feature Scaling)\n",
    "scaler = StandardScaler()\n",
    "X_scaled = scaler.fit_transform(X_imputed)\n",
    "\n",
    "# Split dataset into training (80%) and testing (20%) sets\n",
    "X_train, X_test, y_train, y_test = train_test_split(X_scaled, y, test_size=0.2, random_state=42, stratify=y)\n",
    "\n",
    "# Define parameter grid for C values (inverse of regularization strength)\n",
    "param_grid = {'C': np.logspace(-3, 3, 10)}  # Values from 0.001 to 1000\n",
    "\n",
    "# Perform Grid Search with Cross-Validation\n",
    "grid_search = GridSearchCV(LogisticRegression(max_iter=500), param_grid, cv=5, scoring='accuracy', n_jobs=-1)\n",
    "grid_search.fit(X_train, y_train)\n",
    "\n",
    "# Get the best C value and accuracy\n",
    "best_C = grid_search.best_params_['C']\n",
    "best_accuracy = grid_search.best_score_\n",
    "\n",
    "# Train Logistic Regression with best C\n",
    "best_model = LogisticRegression(C=best_C, max_iter=500)\n",
    "best_model.fit(X_train, y_train)\n",
    "\n",
    "# Predict on test data\n",
    "y_pred = best_model.predict(X_test)\n",
    "\n",
    "# Compute final accuracy on test set\n",
    "final_accuracy = accuracy_score(y_test, y_pred)\n",
    "\n",
    "# Print results\n",
    "print(f'Optimal C value: {best_C}')\n",
    "print(f'Best cross-validation accuracy: {best_accuracy * 100:.2f}%')\n",
    "print(f'Final test set accuracy: {final_accuracy * 100:.2f}%')\n"
   ]
  },
  {
   "cell_type": "code",
   "execution_count": null,
   "id": "49c9aa99-0de2-437f-8ff8-81c985eed810",
   "metadata": {},
   "outputs": [],
   "source": []
  },
  {
   "cell_type": "markdown",
   "id": "489c3694-6f40-4905-8baa-9b865b66b656",
   "metadata": {},
   "source": [
    "Q25. Write a Python program to train Logistic Regression, save the trained model using joblib, and load it again to \n",
    "make predictions."
   ]
  },
  {
   "cell_type": "code",
   "execution_count": 42,
   "id": "2c1914fa-a2f0-4bcb-9de9-dbca3a2ca2b1",
   "metadata": {},
   "outputs": [
    {
     "name": "stdout",
     "output_type": "stream",
     "text": [
      "Model accuracy after loading: 67.60%\n"
     ]
    }
   ],
   "source": [
    "# Import necessary libraries\n",
    "import seaborn as sns\n",
    "import joblib\n",
    "import numpy as np\n",
    "from sklearn.model_selection import train_test_split\n",
    "from sklearn.linear_model import LogisticRegression\n",
    "from sklearn.preprocessing import StandardScaler\n",
    "from sklearn.impute import SimpleImputer\n",
    "from sklearn.metrics import accuracy_score\n",
    "\n",
    "# Load Titanic dataset\n",
    "df = sns.load_dataset('titanic')\n",
    "\n",
    "# Select relevant numerical features and target variable\n",
    "X = df[['pclass', 'age', 'fare', 'sibsp', 'parch']]  # Numerical features\n",
    "y = df['survived']  # Binary target variable (0 = No, 1 = Yes)\n",
    "\n",
    "# Handle missing values using Mean Imputation\n",
    "imputer = SimpleImputer(strategy='mean')  \n",
    "X_imputed = imputer.fit_transform(X)\n",
    "\n",
    "# Apply Standardization (Feature Scaling)\n",
    "scaler = StandardScaler()\n",
    "X_scaled = scaler.fit_transform(X_imputed)\n",
    "\n",
    "# Split dataset into training (80%) and testing (20%) sets\n",
    "X_train, X_test, y_train, y_test = train_test_split(X_scaled, y, test_size=0.2, random_state=42, stratify=y)\n",
    "\n",
    "# Train Logistic Regression model\n",
    "model = LogisticRegression(max_iter=500)\n",
    "model.fit(X_train, y_train)\n",
    "\n",
    "# Save the trained model using joblib\n",
    "joblib.dump(model, 'logistic_regression_model.pkl')\n",
    "\n",
    "# Load the saved model\n",
    "loaded_model = joblib.load('logistic_regression_model.pkl')\n",
    "\n",
    "# Predict on test data using the loaded model\n",
    "y_pred = loaded_model.predict(X_test)\n",
    "\n",
    "# Compute accuracy\n",
    "accuracy = accuracy_score(y_test, y_pred)\n",
    "\n",
    "# Print results\n",
    "print(f'Model accuracy after loading: {accuracy * 100:.2f}%')\n"
   ]
  },
  {
   "cell_type": "code",
   "execution_count": null,
   "id": "d18d812c-9fbf-4109-b3e7-db9a49f30a27",
   "metadata": {},
   "outputs": [],
   "source": []
  },
  {
   "cell_type": "code",
   "execution_count": null,
   "id": "a361e438-b3e1-447a-9c34-59a8fb148080",
   "metadata": {},
   "outputs": [],
   "source": []
  }
 ],
 "metadata": {
  "kernelspec": {
   "display_name": "Python 3 (ipykernel)",
   "language": "python",
   "name": "python3"
  },
  "language_info": {
   "codemirror_mode": {
    "name": "ipython",
    "version": 3
   },
   "file_extension": ".py",
   "mimetype": "text/x-python",
   "name": "python",
   "nbconvert_exporter": "python",
   "pygments_lexer": "ipython3",
   "version": "3.12.4"
  }
 },
 "nbformat": 4,
 "nbformat_minor": 5
}
